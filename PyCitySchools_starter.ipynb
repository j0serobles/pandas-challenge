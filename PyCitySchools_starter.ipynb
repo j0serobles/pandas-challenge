{
 "cells": [
  {
   "cell_type": "code",
   "execution_count": 1,
   "metadata": {},
   "outputs": [
    {
     "data": {
      "text/html": [
       "<div>\n",
       "<style scoped>\n",
       "    .dataframe tbody tr th:only-of-type {\n",
       "        vertical-align: middle;\n",
       "    }\n",
       "\n",
       "    .dataframe tbody tr th {\n",
       "        vertical-align: top;\n",
       "    }\n",
       "\n",
       "    .dataframe thead th {\n",
       "        text-align: right;\n",
       "    }\n",
       "</style>\n",
       "<table border=\"1\" class=\"dataframe\">\n",
       "  <thead>\n",
       "    <tr style=\"text-align: right;\">\n",
       "      <th></th>\n",
       "      <th>Student ID</th>\n",
       "      <th>student_name</th>\n",
       "      <th>gender</th>\n",
       "      <th>grade</th>\n",
       "      <th>school_name</th>\n",
       "      <th>reading_score</th>\n",
       "      <th>math_score</th>\n",
       "      <th>School ID</th>\n",
       "      <th>type</th>\n",
       "      <th>size</th>\n",
       "      <th>budget</th>\n",
       "    </tr>\n",
       "  </thead>\n",
       "  <tbody>\n",
       "    <tr>\n",
       "      <th>0</th>\n",
       "      <td>0</td>\n",
       "      <td>Paul Bradley</td>\n",
       "      <td>M</td>\n",
       "      <td>9th</td>\n",
       "      <td>Huang High School</td>\n",
       "      <td>66</td>\n",
       "      <td>79</td>\n",
       "      <td>0</td>\n",
       "      <td>District</td>\n",
       "      <td>2917</td>\n",
       "      <td>1910635</td>\n",
       "    </tr>\n",
       "    <tr>\n",
       "      <th>1</th>\n",
       "      <td>1</td>\n",
       "      <td>Victor Smith</td>\n",
       "      <td>M</td>\n",
       "      <td>12th</td>\n",
       "      <td>Huang High School</td>\n",
       "      <td>94</td>\n",
       "      <td>61</td>\n",
       "      <td>0</td>\n",
       "      <td>District</td>\n",
       "      <td>2917</td>\n",
       "      <td>1910635</td>\n",
       "    </tr>\n",
       "    <tr>\n",
       "      <th>2</th>\n",
       "      <td>2</td>\n",
       "      <td>Kevin Rodriguez</td>\n",
       "      <td>M</td>\n",
       "      <td>12th</td>\n",
       "      <td>Huang High School</td>\n",
       "      <td>90</td>\n",
       "      <td>60</td>\n",
       "      <td>0</td>\n",
       "      <td>District</td>\n",
       "      <td>2917</td>\n",
       "      <td>1910635</td>\n",
       "    </tr>\n",
       "    <tr>\n",
       "      <th>3</th>\n",
       "      <td>3</td>\n",
       "      <td>Dr. Richard Scott</td>\n",
       "      <td>M</td>\n",
       "      <td>12th</td>\n",
       "      <td>Huang High School</td>\n",
       "      <td>67</td>\n",
       "      <td>58</td>\n",
       "      <td>0</td>\n",
       "      <td>District</td>\n",
       "      <td>2917</td>\n",
       "      <td>1910635</td>\n",
       "    </tr>\n",
       "    <tr>\n",
       "      <th>4</th>\n",
       "      <td>4</td>\n",
       "      <td>Bonnie Ray</td>\n",
       "      <td>F</td>\n",
       "      <td>9th</td>\n",
       "      <td>Huang High School</td>\n",
       "      <td>97</td>\n",
       "      <td>84</td>\n",
       "      <td>0</td>\n",
       "      <td>District</td>\n",
       "      <td>2917</td>\n",
       "      <td>1910635</td>\n",
       "    </tr>\n",
       "  </tbody>\n",
       "</table>\n",
       "</div>"
      ],
      "text/plain": [
       "   Student ID       student_name gender grade        school_name  \\\n",
       "0           0       Paul Bradley      M   9th  Huang High School   \n",
       "1           1       Victor Smith      M  12th  Huang High School   \n",
       "2           2    Kevin Rodriguez      M  12th  Huang High School   \n",
       "3           3  Dr. Richard Scott      M  12th  Huang High School   \n",
       "4           4         Bonnie Ray      F   9th  Huang High School   \n",
       "\n",
       "   reading_score  math_score  School ID      type  size   budget  \n",
       "0             66          79          0  District  2917  1910635  \n",
       "1             94          61          0  District  2917  1910635  \n",
       "2             90          60          0  District  2917  1910635  \n",
       "3             67          58          0  District  2917  1910635  \n",
       "4             97          84          0  District  2917  1910635  "
      ]
     },
     "execution_count": 1,
     "metadata": {},
     "output_type": "execute_result"
    }
   ],
   "source": [
    "# Dependencies and Setup\n",
    "import pandas as pd\n",
    "\n",
    "# File to Load (Remember to Change These)\n",
    "school_data_to_load  = \"../../../../../UCF-LKM-DATA-PT-12-2020-U-C/Homework/04-Pandas/Instructions/PyCitySchools/Resources/schools_complete.csv\"\n",
    "student_data_to_load = \"../../../../../UCF-LKM-DATA-PT-12-2020-U-C/Homework/04-Pandas/Instructions/PyCitySchools/Resources/students_complete.csv\"\n",
    "\n",
    "# Read School and StudentData File and store into Pandas DataFrames\n",
    "school_data = pd.read_csv(school_data_to_load)\n",
    "student_data = pd.read_csv(student_data_to_load)\n",
    "\n",
    "# Combine the data into a single dataset.  \n",
    "school_data_complete = pd.merge(student_data, school_data, how=\"left\", on=[\"school_name\", \"school_name\"])\n",
    "school_data_complete.head()"
   ]
  },
  {
   "cell_type": "markdown",
   "metadata": {},
   "source": [
    "## District Summary\n",
    "\n",
    "* Calculate the total number of schools\n",
    "\n",
    "* Calculate the total number of students\n",
    "\n",
    "* Calculate the total budget\n",
    "\n",
    "* Calculate the average math score \n",
    "\n",
    "* Calculate the average reading score\n",
    "\n",
    "* Calculate the percentage of students with a passing math score (70 or greater)\n",
    "\n",
    "* Calculate the percentage of students with a passing reading score (70 or greater)\n",
    "\n",
    "* Calculate the percentage of students who passed math **and** reading (% Overall Passing)\n",
    "\n",
    "* Create a dataframe to hold the above results\n",
    "\n",
    "* Optional: give the displayed data cleaner formatting"
   ]
  },
  {
   "cell_type": "code",
   "execution_count": 2,
   "metadata": {},
   "outputs": [],
   "source": [
    "#Calculate the total number of schools\n",
    "total_schools = len(school_data_complete[\"school_name\"].unique())"
   ]
  },
  {
   "cell_type": "code",
   "execution_count": 3,
   "metadata": {},
   "outputs": [
    {
     "data": {
      "text/plain": [
       "39170"
      ]
     },
     "execution_count": 3,
     "metadata": {},
     "output_type": "execute_result"
    }
   ],
   "source": [
    "# Calculate the total number of students\n",
    "total_students = len(school_data_complete)\n",
    "total_students"
   ]
  },
  {
   "cell_type": "code",
   "execution_count": 4,
   "metadata": {},
   "outputs": [
    {
     "data": {
      "text/plain": [
       "'$24,649,428'"
      ]
     },
     "execution_count": 4,
     "metadata": {},
     "output_type": "execute_result"
    }
   ],
   "source": [
    "# Calculate the total budget\n",
    "#school_data_complete[\"budget\"].map(\"${:,.2f}\".format)\n",
    "#print(\"$%.2f\" % school_data_complete[\"budget\"].sum())\n",
    "total_budget = school_data[\"budget\"].sum()\n",
    "\"$\" + f\"{total_budget:,.0f}\".format()"
   ]
  },
  {
   "cell_type": "code",
   "execution_count": 5,
   "metadata": {},
   "outputs": [
    {
     "name": "stdout",
     "output_type": "stream",
     "text": [
      "78.99\n",
      "\n"
     ]
    }
   ],
   "source": [
    "#Calculate the average math score\n",
    "mean_math_score = school_data_complete[\"math_score\"].mean()\n",
    "print(\"%.2f\\n\" % mean_math_score )"
   ]
  },
  {
   "cell_type": "code",
   "execution_count": 6,
   "metadata": {},
   "outputs": [
    {
     "name": "stdout",
     "output_type": "stream",
     "text": [
      "81.88\n",
      "\n"
     ]
    }
   ],
   "source": [
    "# Calculate the average reading score\n",
    "mean_reading_score  = school_data_complete[\"reading_score\"].mean()\n",
    "print(\"%.2f\\n\" %  mean_reading_score )"
   ]
  },
  {
   "cell_type": "code",
   "execution_count": 7,
   "metadata": {},
   "outputs": [
    {
     "data": {
      "text/plain": [
       "'75%'"
      ]
     },
     "execution_count": 7,
     "metadata": {},
     "output_type": "execute_result"
    }
   ],
   "source": [
    "#Calculate the percentage of students with a passing math score (70 or greater)\n",
    "#find the total number of students\n",
    "total_students = len(school_data_complete)\n",
    "#get the number of students with passing score > 70 \n",
    "passing_students = len(school_data_complete.loc[school_data_complete[\"math_score\"] >= 70, :])\n",
    "math_passing_percentage = (passing_students/total_students) \n",
    "f'{math_passing_percentage:.0%}'.format()"
   ]
  },
  {
   "cell_type": "code",
   "execution_count": 8,
   "metadata": {},
   "outputs": [
    {
     "data": {
      "text/plain": [
       "'86%'"
      ]
     },
     "execution_count": 8,
     "metadata": {},
     "output_type": "execute_result"
    }
   ],
   "source": [
    "# Calculate the percentage of students with a passing reading score (70 or greater)\n",
    "#get the number of students with passing score > 70 \n",
    "passing_students = len(school_data_complete.loc[school_data_complete[\"reading_score\"] >= 70, :])\n",
    "read_passing_percentage = (passing_students/total_students) \n",
    "f'{read_passing_percentage:.0%}'.format()"
   ]
  },
  {
   "cell_type": "code",
   "execution_count": 9,
   "metadata": {},
   "outputs": [
    {
     "data": {
      "text/html": [
       "<div>\n",
       "<style scoped>\n",
       "    .dataframe tbody tr th:only-of-type {\n",
       "        vertical-align: middle;\n",
       "    }\n",
       "\n",
       "    .dataframe tbody tr th {\n",
       "        vertical-align: top;\n",
       "    }\n",
       "\n",
       "    .dataframe thead th {\n",
       "        text-align: right;\n",
       "    }\n",
       "</style>\n",
       "<table border=\"1\" class=\"dataframe\">\n",
       "  <thead>\n",
       "    <tr style=\"text-align: right;\">\n",
       "      <th></th>\n",
       "      <th>TotalSchools</th>\n",
       "      <th>TotalStudents</th>\n",
       "      <th>TotalBudget</th>\n",
       "      <th>AverageMathScore</th>\n",
       "      <th>AverageReadingScore</th>\n",
       "      <th>PercentageMathPassed</th>\n",
       "      <th>PercentageReadPassed</th>\n",
       "    </tr>\n",
       "  </thead>\n",
       "  <tbody>\n",
       "    <tr>\n",
       "      <th>Results</th>\n",
       "      <td>15</td>\n",
       "      <td>39170</td>\n",
       "      <td>24649428</td>\n",
       "      <td>78.985371</td>\n",
       "      <td>81.87784</td>\n",
       "      <td>0.749809</td>\n",
       "      <td>0.858055</td>\n",
       "    </tr>\n",
       "  </tbody>\n",
       "</table>\n",
       "</div>"
      ],
      "text/plain": [
       "         TotalSchools  TotalStudents  TotalBudget  AverageMathScore  \\\n",
       "Results            15          39170     24649428         78.985371   \n",
       "\n",
       "         AverageReadingScore  PercentageMathPassed  PercentageReadPassed  \n",
       "Results             81.87784              0.749809              0.858055  "
      ]
     },
     "execution_count": 9,
     "metadata": {},
     "output_type": "execute_result"
    }
   ],
   "source": [
    "# Create a dataframe to hold the above results\n",
    "student_results = pd.DataFrame(\n",
    "                               {   \"TotalSchools\"         : total_schools,\n",
    "                                   \"TotalStudents\"        : total_students,\n",
    "                                   \"TotalBudget\"          : total_budget, \n",
    "                                   \"AverageMathScore\"     : mean_math_score,\n",
    "                                   \"AverageReadingScore\"  : mean_reading_score,\n",
    "                                   \"PercentageMathPassed\" : math_passing_percentage,\n",
    "                                   \"PercentageReadPassed\" : read_passing_percentage \n",
    "                               }, ['Results']\n",
    "                              )\n",
    "student_results"
   ]
  },
  {
   "cell_type": "code",
   "execution_count": 10,
   "metadata": {},
   "outputs": [
    {
     "data": {
      "text/html": [
       "<div>\n",
       "<style scoped>\n",
       "    .dataframe tbody tr th:only-of-type {\n",
       "        vertical-align: middle;\n",
       "    }\n",
       "\n",
       "    .dataframe tbody tr th {\n",
       "        vertical-align: top;\n",
       "    }\n",
       "\n",
       "    .dataframe thead th {\n",
       "        text-align: right;\n",
       "    }\n",
       "</style>\n",
       "<table border=\"1\" class=\"dataframe\">\n",
       "  <thead>\n",
       "    <tr style=\"text-align: right;\">\n",
       "      <th></th>\n",
       "      <th>TotalSchools</th>\n",
       "      <th>TotalStudents</th>\n",
       "      <th>TotalBudget</th>\n",
       "      <th>AverageMathScore</th>\n",
       "      <th>AverageReadingScore</th>\n",
       "      <th>PercentageMathPassed</th>\n",
       "      <th>PercentageReadPassed</th>\n",
       "    </tr>\n",
       "  </thead>\n",
       "  <tbody>\n",
       "    <tr>\n",
       "      <th>Results</th>\n",
       "      <td>15</td>\n",
       "      <td>39,170</td>\n",
       "      <td>$24,649,428</td>\n",
       "      <td>78.99</td>\n",
       "      <td>81.88</td>\n",
       "      <td>75%</td>\n",
       "      <td>86%</td>\n",
       "    </tr>\n",
       "  </tbody>\n",
       "</table>\n",
       "</div>"
      ],
      "text/plain": [
       "         TotalSchools TotalStudents  TotalBudget AverageMathScore  \\\n",
       "Results            15        39,170  $24,649,428            78.99   \n",
       "\n",
       "        AverageReadingScore PercentageMathPassed PercentageReadPassed  \n",
       "Results               81.88                  75%                  86%  "
      ]
     },
     "execution_count": 10,
     "metadata": {},
     "output_type": "execute_result"
    }
   ],
   "source": [
    "#Optional: give the displayed data cleaner formatting\n",
    "student_results_formatted = pd.DataFrame(\n",
    "                               {   \"TotalSchools\"         : total_schools,\n",
    "                                   \"TotalStudents\"        : f'{total_students:,}'.format()       ,\n",
    "                                   \"TotalBudget\"          : \"$\" + f\"{total_budget:,.0f}\".format(), \n",
    "                                   \"AverageMathScore\"     : f\"{mean_math_score:,.2f}\".format(),\n",
    "                                   \"AverageReadingScore\"  : f\"{mean_reading_score:,.2f}\".format(),\n",
    "                                   \"PercentageMathPassed\" : f'{math_passing_percentage:.0%}'.format(),\n",
    "                                   \"PercentageReadPassed\" : f'{read_passing_percentage:.0%}'.format() \n",
    "                               }, ['Results']\n",
    "                              )\n",
    "student_results_formatted"
   ]
  },
  {
   "cell_type": "markdown",
   "metadata": {},
   "source": [
    "## School Summary"
   ]
  },
  {
   "cell_type": "code",
   "execution_count": null,
   "metadata": {},
   "outputs": [],
   "source": []
  },
  {
   "cell_type": "markdown",
   "metadata": {},
   "source": [
    "* Create an overview table that summarizes key metrics about each school, including:\n",
    "  * School Name\n",
    "  * School Type\n",
    "  * Total Students\n",
    "  * Total School Budget\n",
    "  * Per Student Budget\n",
    "  * Average Math Score\n",
    "  * Average Reading Score\n",
    "  * % Passing Math\n",
    "  * % Passing Reading\n",
    "  * % Overall Passing (The percentage of students that passed math **and** reading.)\n",
    "  \n",
    "* Create a dataframe to hold the above results"
   ]
  },
  {
   "cell_type": "code",
   "execution_count": 22,
   "metadata": {},
   "outputs": [
    {
     "data": {
      "text/html": [
       "<div>\n",
       "<style scoped>\n",
       "    .dataframe tbody tr th:only-of-type {\n",
       "        vertical-align: middle;\n",
       "    }\n",
       "\n",
       "    .dataframe tbody tr th {\n",
       "        vertical-align: top;\n",
       "    }\n",
       "\n",
       "    .dataframe thead th {\n",
       "        text-align: right;\n",
       "    }\n",
       "</style>\n",
       "<table border=\"1\" class=\"dataframe\">\n",
       "  <thead>\n",
       "    <tr style=\"text-align: right;\">\n",
       "      <th></th>\n",
       "      <th></th>\n",
       "      <th>Total Students</th>\n",
       "      <th>Total Budget</th>\n",
       "      <th>Budget Per Student</th>\n",
       "      <th>Average Math Score</th>\n",
       "      <th>Average Reading Score</th>\n",
       "      <th>Passing Math Percentage</th>\n",
       "      <th>Passing Read Percentage</th>\n",
       "      <th>Overall Passing Percentage</th>\n",
       "    </tr>\n",
       "    <tr>\n",
       "      <th>school_name</th>\n",
       "      <th>type</th>\n",
       "      <th></th>\n",
       "      <th></th>\n",
       "      <th></th>\n",
       "      <th></th>\n",
       "      <th></th>\n",
       "      <th></th>\n",
       "      <th></th>\n",
       "      <th></th>\n",
       "    </tr>\n",
       "  </thead>\n",
       "  <tbody>\n",
       "    <tr>\n",
       "      <th>Bailey High School</th>\n",
       "      <th>District</th>\n",
       "      <td>4976</td>\n",
       "      <td>[3124928]</td>\n",
       "      <td>[628.0]</td>\n",
       "      <td>77.048432</td>\n",
       "      <td>81.033963</td>\n",
       "      <td>0.666801</td>\n",
       "      <td>0.819333</td>\n",
       "      <td>54.642283</td>\n",
       "    </tr>\n",
       "    <tr>\n",
       "      <th>Cabrera High School</th>\n",
       "      <th>Charter</th>\n",
       "      <td>1858</td>\n",
       "      <td>[1081356]</td>\n",
       "      <td>[582.0]</td>\n",
       "      <td>83.061895</td>\n",
       "      <td>83.975780</td>\n",
       "      <td>0.941335</td>\n",
       "      <td>0.970398</td>\n",
       "      <td>91.334769</td>\n",
       "    </tr>\n",
       "    <tr>\n",
       "      <th>Figueroa High School</th>\n",
       "      <th>District</th>\n",
       "      <td>2949</td>\n",
       "      <td>[1884411]</td>\n",
       "      <td>[639.0]</td>\n",
       "      <td>76.711767</td>\n",
       "      <td>81.158020</td>\n",
       "      <td>0.659885</td>\n",
       "      <td>0.807392</td>\n",
       "      <td>53.204476</td>\n",
       "    </tr>\n",
       "    <tr>\n",
       "      <th>Ford High School</th>\n",
       "      <th>District</th>\n",
       "      <td>2739</td>\n",
       "      <td>[1763916]</td>\n",
       "      <td>[644.0]</td>\n",
       "      <td>77.102592</td>\n",
       "      <td>80.746258</td>\n",
       "      <td>0.683096</td>\n",
       "      <td>0.792990</td>\n",
       "      <td>54.289887</td>\n",
       "    </tr>\n",
       "    <tr>\n",
       "      <th>Griffin High School</th>\n",
       "      <th>Charter</th>\n",
       "      <td>1468</td>\n",
       "      <td>[917500]</td>\n",
       "      <td>[625.0]</td>\n",
       "      <td>83.351499</td>\n",
       "      <td>83.816757</td>\n",
       "      <td>0.933924</td>\n",
       "      <td>0.971390</td>\n",
       "      <td>90.599455</td>\n",
       "    </tr>\n",
       "    <tr>\n",
       "      <th>Hernandez High School</th>\n",
       "      <th>District</th>\n",
       "      <td>4635</td>\n",
       "      <td>[3022020]</td>\n",
       "      <td>[652.0]</td>\n",
       "      <td>77.289752</td>\n",
       "      <td>80.934412</td>\n",
       "      <td>0.667530</td>\n",
       "      <td>0.808630</td>\n",
       "      <td>53.527508</td>\n",
       "    </tr>\n",
       "    <tr>\n",
       "      <th>Holden High School</th>\n",
       "      <th>Charter</th>\n",
       "      <td>427</td>\n",
       "      <td>[248087]</td>\n",
       "      <td>[581.0]</td>\n",
       "      <td>83.803279</td>\n",
       "      <td>83.814988</td>\n",
       "      <td>0.925059</td>\n",
       "      <td>0.962529</td>\n",
       "      <td>89.227166</td>\n",
       "    </tr>\n",
       "    <tr>\n",
       "      <th>Huang High School</th>\n",
       "      <th>District</th>\n",
       "      <td>2917</td>\n",
       "      <td>[1910635]</td>\n",
       "      <td>[655.0]</td>\n",
       "      <td>76.629414</td>\n",
       "      <td>81.182722</td>\n",
       "      <td>0.656839</td>\n",
       "      <td>0.813164</td>\n",
       "      <td>53.513884</td>\n",
       "    </tr>\n",
       "    <tr>\n",
       "      <th>Johnson High School</th>\n",
       "      <th>District</th>\n",
       "      <td>4761</td>\n",
       "      <td>[3094650]</td>\n",
       "      <td>[650.0]</td>\n",
       "      <td>77.072464</td>\n",
       "      <td>80.966394</td>\n",
       "      <td>0.660576</td>\n",
       "      <td>0.812224</td>\n",
       "      <td>53.539172</td>\n",
       "    </tr>\n",
       "    <tr>\n",
       "      <th>Pena High School</th>\n",
       "      <th>Charter</th>\n",
       "      <td>962</td>\n",
       "      <td>[585858]</td>\n",
       "      <td>[609.0]</td>\n",
       "      <td>83.839917</td>\n",
       "      <td>84.044699</td>\n",
       "      <td>0.945946</td>\n",
       "      <td>0.959459</td>\n",
       "      <td>90.540541</td>\n",
       "    </tr>\n",
       "    <tr>\n",
       "      <th>Rodriguez High School</th>\n",
       "      <th>District</th>\n",
       "      <td>3999</td>\n",
       "      <td>[2547363]</td>\n",
       "      <td>[637.0]</td>\n",
       "      <td>76.842711</td>\n",
       "      <td>80.744686</td>\n",
       "      <td>0.663666</td>\n",
       "      <td>0.802201</td>\n",
       "      <td>52.988247</td>\n",
       "    </tr>\n",
       "    <tr>\n",
       "      <th>Shelton High School</th>\n",
       "      <th>Charter</th>\n",
       "      <td>1761</td>\n",
       "      <td>[1056600]</td>\n",
       "      <td>[600.0]</td>\n",
       "      <td>83.359455</td>\n",
       "      <td>83.725724</td>\n",
       "      <td>0.938671</td>\n",
       "      <td>0.958546</td>\n",
       "      <td>89.892107</td>\n",
       "    </tr>\n",
       "    <tr>\n",
       "      <th>Thomas High School</th>\n",
       "      <th>Charter</th>\n",
       "      <td>1635</td>\n",
       "      <td>[1043130]</td>\n",
       "      <td>[638.0]</td>\n",
       "      <td>83.418349</td>\n",
       "      <td>83.848930</td>\n",
       "      <td>0.932722</td>\n",
       "      <td>0.973089</td>\n",
       "      <td>90.948012</td>\n",
       "    </tr>\n",
       "    <tr>\n",
       "      <th>Wilson High School</th>\n",
       "      <th>Charter</th>\n",
       "      <td>2283</td>\n",
       "      <td>[1319574]</td>\n",
       "      <td>[578.0]</td>\n",
       "      <td>83.274201</td>\n",
       "      <td>83.989488</td>\n",
       "      <td>0.938677</td>\n",
       "      <td>0.965396</td>\n",
       "      <td>90.582567</td>\n",
       "    </tr>\n",
       "    <tr>\n",
       "      <th>Wright High School</th>\n",
       "      <th>Charter</th>\n",
       "      <td>1800</td>\n",
       "      <td>[1049400]</td>\n",
       "      <td>[583.0]</td>\n",
       "      <td>83.682222</td>\n",
       "      <td>83.955000</td>\n",
       "      <td>0.933333</td>\n",
       "      <td>0.966111</td>\n",
       "      <td>90.333333</td>\n",
       "    </tr>\n",
       "  </tbody>\n",
       "</table>\n",
       "</div>"
      ],
      "text/plain": [
       "                                Total Students Total Budget  \\\n",
       "school_name           type                                    \n",
       "Bailey High School    District            4976    [3124928]   \n",
       "Cabrera High School   Charter             1858    [1081356]   \n",
       "Figueroa High School  District            2949    [1884411]   \n",
       "Ford High School      District            2739    [1763916]   \n",
       "Griffin High School   Charter             1468     [917500]   \n",
       "Hernandez High School District            4635    [3022020]   \n",
       "Holden High School    Charter              427     [248087]   \n",
       "Huang High School     District            2917    [1910635]   \n",
       "Johnson High School   District            4761    [3094650]   \n",
       "Pena High School      Charter              962     [585858]   \n",
       "Rodriguez High School District            3999    [2547363]   \n",
       "Shelton High School   Charter             1761    [1056600]   \n",
       "Thomas High School    Charter             1635    [1043130]   \n",
       "Wilson High School    Charter             2283    [1319574]   \n",
       "Wright High School    Charter             1800    [1049400]   \n",
       "\n",
       "                               Budget Per Student  Average Math Score  \\\n",
       "school_name           type                                              \n",
       "Bailey High School    District            [628.0]           77.048432   \n",
       "Cabrera High School   Charter             [582.0]           83.061895   \n",
       "Figueroa High School  District            [639.0]           76.711767   \n",
       "Ford High School      District            [644.0]           77.102592   \n",
       "Griffin High School   Charter             [625.0]           83.351499   \n",
       "Hernandez High School District            [652.0]           77.289752   \n",
       "Holden High School    Charter             [581.0]           83.803279   \n",
       "Huang High School     District            [655.0]           76.629414   \n",
       "Johnson High School   District            [650.0]           77.072464   \n",
       "Pena High School      Charter             [609.0]           83.839917   \n",
       "Rodriguez High School District            [637.0]           76.842711   \n",
       "Shelton High School   Charter             [600.0]           83.359455   \n",
       "Thomas High School    Charter             [638.0]           83.418349   \n",
       "Wilson High School    Charter             [578.0]           83.274201   \n",
       "Wright High School    Charter             [583.0]           83.682222   \n",
       "\n",
       "                                Average Reading Score  \\\n",
       "school_name           type                              \n",
       "Bailey High School    District              81.033963   \n",
       "Cabrera High School   Charter               83.975780   \n",
       "Figueroa High School  District              81.158020   \n",
       "Ford High School      District              80.746258   \n",
       "Griffin High School   Charter               83.816757   \n",
       "Hernandez High School District              80.934412   \n",
       "Holden High School    Charter               83.814988   \n",
       "Huang High School     District              81.182722   \n",
       "Johnson High School   District              80.966394   \n",
       "Pena High School      Charter               84.044699   \n",
       "Rodriguez High School District              80.744686   \n",
       "Shelton High School   Charter               83.725724   \n",
       "Thomas High School    Charter               83.848930   \n",
       "Wilson High School    Charter               83.989488   \n",
       "Wright High School    Charter               83.955000   \n",
       "\n",
       "                                Passing Math Percentage  \\\n",
       "school_name           type                                \n",
       "Bailey High School    District                 0.666801   \n",
       "Cabrera High School   Charter                  0.941335   \n",
       "Figueroa High School  District                 0.659885   \n",
       "Ford High School      District                 0.683096   \n",
       "Griffin High School   Charter                  0.933924   \n",
       "Hernandez High School District                 0.667530   \n",
       "Holden High School    Charter                  0.925059   \n",
       "Huang High School     District                 0.656839   \n",
       "Johnson High School   District                 0.660576   \n",
       "Pena High School      Charter                  0.945946   \n",
       "Rodriguez High School District                 0.663666   \n",
       "Shelton High School   Charter                  0.938671   \n",
       "Thomas High School    Charter                  0.932722   \n",
       "Wilson High School    Charter                  0.938677   \n",
       "Wright High School    Charter                  0.933333   \n",
       "\n",
       "                                Passing Read Percentage  \\\n",
       "school_name           type                                \n",
       "Bailey High School    District                 0.819333   \n",
       "Cabrera High School   Charter                  0.970398   \n",
       "Figueroa High School  District                 0.807392   \n",
       "Ford High School      District                 0.792990   \n",
       "Griffin High School   Charter                  0.971390   \n",
       "Hernandez High School District                 0.808630   \n",
       "Holden High School    Charter                  0.962529   \n",
       "Huang High School     District                 0.813164   \n",
       "Johnson High School   District                 0.812224   \n",
       "Pena High School      Charter                  0.959459   \n",
       "Rodriguez High School District                 0.802201   \n",
       "Shelton High School   Charter                  0.958546   \n",
       "Thomas High School    Charter                  0.973089   \n",
       "Wilson High School    Charter                  0.965396   \n",
       "Wright High School    Charter                  0.966111   \n",
       "\n",
       "                                Overall Passing Percentage  \n",
       "school_name           type                                  \n",
       "Bailey High School    District                   54.642283  \n",
       "Cabrera High School   Charter                    91.334769  \n",
       "Figueroa High School  District                   53.204476  \n",
       "Ford High School      District                   54.289887  \n",
       "Griffin High School   Charter                    90.599455  \n",
       "Hernandez High School District                   53.527508  \n",
       "Holden High School    Charter                    89.227166  \n",
       "Huang High School     District                   53.513884  \n",
       "Johnson High School   District                   53.539172  \n",
       "Pena High School      Charter                    90.540541  \n",
       "Rodriguez High School District                   52.988247  \n",
       "Shelton High School   Charter                    89.892107  \n",
       "Thomas High School    Charter                    90.948012  \n",
       "Wilson High School    Charter                    90.582567  \n",
       "Wright High School    Charter                    90.333333  "
      ]
     },
     "execution_count": 22,
     "metadata": {},
     "output_type": "execute_result"
    }
   ],
   "source": [
    "grouped_school_data = school_data_complete.groupby([\"school_name\", \"type\"])\n",
    "#school_data_complete.count() # Total Row Count\n",
    "\n",
    "total_students_per_school_s = grouped_school_data[\"Student ID\"].count()  # total Student count per school\n",
    "total_students_per_school_s\n",
    "\n",
    "budget_per_school_s         = grouped_school_data[\"budget\"].unique()    # budget amount per school\n",
    "#budget_per_school_s\n",
    "\n",
    "per_student_budget_s        = budget_per_school_s / total_students_per_school_s\n",
    "#per_student_budget_s\n",
    "\n",
    "average_math_score_s        =  grouped_school_data[\"math_score\"].mean()\n",
    "average_read_score_s        =  grouped_school_data[\"reading_score\"].mean()\n",
    "\n",
    "passing_math_df = school_data_complete[ school_data_complete[\"math_score\"] >= 70]\n",
    "passing_math_per_school_group = passing_math_df.groupby([\"school_name\", \"type\"])\n",
    "passing_math_per_school_s = passing_math_per_school_group[\"Student ID\"].count()\n",
    "\n",
    "passing_math_percent_per_school_s = passing_math_per_school_s / total_students_per_school_s\n",
    "#assing_math_percent_per_school_s\n",
    "\n",
    "passing_read_df               = school_data_complete[ school_data_complete[\"reading_score\"] >= 70]\n",
    "passing_read_per_school_group = passing_read_df.groupby([\"school_name\", \"type\"])\n",
    "passing_read_per_school_s     = passing_read_per_school_group[\"Student ID\"].count()\n",
    "\n",
    "passing_read_percent_per_school_s = passing_read_per_school_s / total_students_per_school_s\n",
    "passing_read_percent_per_school_s * 100\n",
    "\n",
    "\n",
    "overall_passed_df = school_data_complete[ (school_data_complete[ \"math_score\"] >= 70) & (school_data_complete [\"reading_score\"] >= 70 )]\n",
    "grouped_overall_passed_df = overall_passed_df.groupby([\"school_name\", \"type\"])\n",
    "overall_passing_percentage = (grouped_overall_passed_df[\"Student ID\"].count()/ grouped_school_summary[\"Student ID\"].count()) * 100\n",
    "\n",
    "school_summary = pd.DataFrame( { \"Total Students\": total_students_per_school_s, \n",
    "                                 \"Total Budget\"  : budget_per_school_s        ,\n",
    "                                 \"Budget Per Student\": per_student_budget_s,\n",
    "                                 \"Average Math Score\": average_math_score_s,\n",
    "                                 \"Average Reading Score\": average_read_score_s,\n",
    "                                 \"Passing Math Percentage\": passing_math_percent_per_school_s,\n",
    "                                 \"Passing Read Percentage\": passing_read_percent_per_school_s,\n",
    "                                 \"Overall Passing Percentage\": overall_passing_percentage\n",
    "                               }\n",
    "                             )\n",
    "school_summary\n"
   ]
  },
  {
   "cell_type": "markdown",
   "metadata": {},
   "source": [
    "## Top Performing Schools (By % Overall Passing)"
   ]
  },
  {
   "cell_type": "markdown",
   "metadata": {},
   "source": [
    "* Sort and display the top five performing schools by % overall passing."
   ]
  },
  {
   "cell_type": "code",
   "execution_count": null,
   "metadata": {
    "scrolled": true
   },
   "outputs": [],
   "source": []
  },
  {
   "cell_type": "markdown",
   "metadata": {},
   "source": [
    "## Bottom Performing Schools (By % Overall Passing)"
   ]
  },
  {
   "cell_type": "markdown",
   "metadata": {},
   "source": [
    "* Sort and display the five worst-performing schools by % overall passing."
   ]
  },
  {
   "cell_type": "code",
   "execution_count": null,
   "metadata": {},
   "outputs": [],
   "source": []
  },
  {
   "cell_type": "markdown",
   "metadata": {},
   "source": [
    "## Math Scores by Grade"
   ]
  },
  {
   "cell_type": "markdown",
   "metadata": {},
   "source": [
    "* Create a table that lists the average Reading Score for students of each grade level (9th, 10th, 11th, 12th) at each school.\n",
    "\n",
    "  * Create a pandas series for each grade. Hint: use a conditional statement.\n",
    "  \n",
    "  * Group each series by school\n",
    "  \n",
    "  * Combine the series into a dataframe\n",
    "  \n",
    "  * Optional: give the displayed data cleaner formatting"
   ]
  },
  {
   "cell_type": "code",
   "execution_count": null,
   "metadata": {},
   "outputs": [],
   "source": []
  },
  {
   "cell_type": "markdown",
   "metadata": {},
   "source": [
    "## Reading Score by Grade "
   ]
  },
  {
   "cell_type": "markdown",
   "metadata": {},
   "source": [
    "* Perform the same operations as above for reading scores"
   ]
  },
  {
   "cell_type": "code",
   "execution_count": null,
   "metadata": {},
   "outputs": [],
   "source": []
  },
  {
   "cell_type": "markdown",
   "metadata": {},
   "source": [
    "## Scores by School Spending"
   ]
  },
  {
   "cell_type": "markdown",
   "metadata": {},
   "source": [
    "* Create a table that breaks down school performances based on average Spending Ranges (Per Student). Use 4 reasonable bins to group school spending. Include in the table each of the following:\n",
    "  * Average Math Score\n",
    "  * Average Reading Score\n",
    "  * % Passing Math\n",
    "  * % Passing Reading\n",
    "  * Overall Passing Rate (Average of the above two)"
   ]
  },
  {
   "cell_type": "code",
   "execution_count": null,
   "metadata": {},
   "outputs": [],
   "source": []
  },
  {
   "cell_type": "markdown",
   "metadata": {},
   "source": [
    "## Scores by School Size"
   ]
  },
  {
   "cell_type": "markdown",
   "metadata": {},
   "source": [
    "* Perform the same operations as above, based on school size."
   ]
  },
  {
   "cell_type": "code",
   "execution_count": null,
   "metadata": {
    "scrolled": true
   },
   "outputs": [],
   "source": []
  },
  {
   "cell_type": "markdown",
   "metadata": {},
   "source": [
    "## Scores by School Type"
   ]
  },
  {
   "cell_type": "markdown",
   "metadata": {},
   "source": [
    "* Perform the same operations as above, based on school type"
   ]
  },
  {
   "cell_type": "code",
   "execution_count": null,
   "metadata": {},
   "outputs": [],
   "source": []
  },
  {
   "cell_type": "code",
   "execution_count": null,
   "metadata": {},
   "outputs": [],
   "source": []
  },
  {
   "cell_type": "code",
   "execution_count": null,
   "metadata": {},
   "outputs": [],
   "source": []
  }
 ],
 "metadata": {
  "anaconda-cloud": {},
  "kernel_info": {
   "name": "python3"
  },
  "kernelspec": {
   "display_name": "Python [conda env:PythonData] *",
   "language": "python",
   "name": "conda-env-PythonData-py"
  },
  "language_info": {
   "codemirror_mode": {
    "name": "ipython",
    "version": 3
   },
   "file_extension": ".py",
   "mimetype": "text/x-python",
   "name": "python",
   "nbconvert_exporter": "python",
   "pygments_lexer": "ipython3",
   "version": "3.6.10"
  },
  "latex_envs": {
   "LaTeX_envs_menu_present": true,
   "autoclose": false,
   "autocomplete": true,
   "bibliofile": "biblio.bib",
   "cite_by": "apalike",
   "current_citInitial": 1,
   "eqLabelWithNumbers": true,
   "eqNumInitial": 1,
   "hotkeys": {
    "equation": "Ctrl-E",
    "itemize": "Ctrl-I"
   },
   "labels_anchors": false,
   "latex_user_defs": false,
   "report_style_numbering": false,
   "user_envs_cfg": false
  },
  "nteract": {
   "version": "0.8.4"
  }
 },
 "nbformat": 4,
 "nbformat_minor": 4
}
